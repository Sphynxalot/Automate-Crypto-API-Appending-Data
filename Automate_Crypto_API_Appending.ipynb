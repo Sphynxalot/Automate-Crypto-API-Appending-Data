{
 "cells": [
  {
   "cell_type": "code",
   "execution_count": null,
   "id": "2d71286f-639a-4295-9218-99975aaecbd2",
   "metadata": {},
   "outputs": [
    {
     "name": "stdout",
     "output_type": "stream",
     "text": [
      "Request 1: Data fetched & saved at 2025-03-24 13:26:55.353923\n"
     ]
    }
   ],
   "source": [
    "import os\n",
    "import json\n",
    "import time\n",
    "import pandas as pd\n",
    "import seaborn as sns\n",
    "import matplotlib.pyplot as plt\n",
    "from requests import Session, Request\n",
    "from requests.exceptions import ConnectionError, Timeout, TooManyRedirects\n",
    "\n",
    "# API Request Configuration\n",
    "URL = 'https://pro-api.coinmarketcap.com/v1/cryptocurrency/listings/latest'\n",
    "PARAMETERS = {'start': '1', 'limit': '15', 'convert': 'USD'}\n",
    "HEADERS = {\n",
    "    'Accepts': 'application/json',\n",
    "    'X-CMC_PRO_API_KEY': '4613d2f4-2b10-46be-a5e3-8226d6ac3757'  # Replace with your actual API key\n",
    "}\n",
    "\n",
    "# Function to fetch API data\n",
    "def fetch_crypto_data():\n",
    "    session = Session()\n",
    "    session.headers.update(HEADERS)\n",
    "    try:\n",
    "        response = session.get(URL, params=PARAMETERS)\n",
    "        data = json.loads(response.text)\n",
    "        return pd.json_normalize(data['data'])\n",
    "    except (ConnectionError, Timeout, TooManyRedirects) as e:\n",
    "        print(f\"API Error: {e}\")\n",
    "        return None\n",
    "\n",
    "# Logging function\n",
    "def log_message(message):\n",
    "    with open(\"crypto_log.txt\", \"a\") as log_file:\n",
    "        log_file.write(f\"{pd.to_datetime('now')}: {message}\\n\")\n",
    "\n",
    "# Automated API calls with logging (THIS IS WHAT YOU WILL WANT TO CHANGE FOR YOUR OWN PERSONAL USE, CURRENTLY SET TO RUN EVERY HOUR)\n",
    "MAX_REQUESTS = 150\n",
    "request_count = 0\n",
    "\n",
    "while request_count < MAX_REQUESTS:\n",
    "    df = fetch_crypto_data()\n",
    "    if df is not None:\n",
    "        df['timestamp'] = pd.to_datetime('now')\n",
    "        df.to_csv('crypto_data.csv', mode='a', index=False, header=not os.path.isfile('crypto_data.csv'))\n",
    "        log_message(f\"Request {request_count + 1}: Data fetched & saved successfully.\")\n",
    "        print(f\"Request {request_count + 1}: Data fetched & saved at\", pd.to_datetime('now'))\n",
    "    \n",
    "    request_count += 1\n",
    "    time.sleep(3600)  # Wait for an hour before the next API call\n",
    "\n",
    "# Data transformation for visualization\n",
    "df_grouped = df.groupby('name', sort=False)[[\n",
    "    'quote.USD.percent_change_1h', 'quote.USD.percent_change_24h', 'quote.USD.percent_change_7d',\n",
    "    'quote.USD.percent_change_30d', 'quote.USD.percent_change_60d', 'quote.USD.percent_change_90d'\n",
    "]].mean()\n",
    "\n",
    "df_melted = df_grouped.stack().reset_index()\n",
    "df_melted.columns = ['name', 'percent_change', 'values']\n",
    "df_melted['percent_change'] = df_melted['percent_change'].str.replace(\n",
    "    'quote.USD.percent_change_', '', regex=True)\n",
    "\n",
    "# Plot data\n",
    "sns.catplot(x='percent_change', y='values', hue='name', data=df_melted, kind='point')\n",
    "plt.show()\n",
    "\n",
    "# Bitcoin-specific data\n",
    "df_bitcoin = df.query(\"name == 'Bitcoin'\")[['name', 'quote.USD.price', 'timestamp']]\n",
    "print(df_bitcoin)\n"
   ]
  },
  {
   "cell_type": "code",
   "execution_count": null,
   "id": "b8660a18-dcaf-4656-a985-71ae6bb9d210",
   "metadata": {},
   "outputs": [],
   "source": []
  }
 ],
 "metadata": {
  "kernelspec": {
   "display_name": "Python [conda env:base] *",
   "language": "python",
   "name": "conda-base-py"
  },
  "language_info": {
   "codemirror_mode": {
    "name": "ipython",
    "version": 3
   },
   "file_extension": ".py",
   "mimetype": "text/x-python",
   "name": "python",
   "nbconvert_exporter": "python",
   "pygments_lexer": "ipython3",
   "version": "3.12.7"
  }
 },
 "nbformat": 4,
 "nbformat_minor": 5
}
