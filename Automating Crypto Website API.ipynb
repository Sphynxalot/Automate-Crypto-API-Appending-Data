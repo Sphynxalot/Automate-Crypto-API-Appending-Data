{
 "cells": [
  {
   "cell_type": "code",
   "execution_count": null,
   "id": "22099456-f6be-49a7-bfdb-7ddd54cbf4e5",
   "metadata": {},
   "outputs": [],
   "source": [
    "from requests import Request, Session\n",
    "from requests.exceptions import ConnectionError, Timeout, TooManyRedirects\n",
    "import json\n",
    "\n",
    "url = 'https://pro-api.coinmarketcap.com/v1/cryptocurrency/listings/latest'\n",
    "parameters = {\n",
    "  'start':'1',\n",
    "  'limit':'15',\n",
    "  'convert':'USD'\n",
    "}\n",
    "headers = {\n",
    "  'Accepts': 'application/json',\n",
    "  'X-CMC_PRO_API_KEY': '4613d2f4-2b10-46be-a5e3-8226d6ac3757',\n",
    "}\n",
    "\n",
    "session = Session()\n",
    "session.headers.update(headers)\n",
    "\n",
    "try:\n",
    "  response = session.get(url, params=parameters)\n",
    "  data = json.loads(response.text)\n",
    "  print(data)\n",
    "except (ConnectionError, Timeout, TooManyRedirects) as e:\n",
    "  print(e)\n",
    "\n",
    "#NOTE:\n",
    "# I had to go in and put \"jupyter notebook --NotebookApp.iopub_data_rate_limite=1e10\"\n",
    "# Into Anaconda Prompt to change this to allow to pull data\n",
    "# Then had to use the local host URL provided by Anaconda Prompt"
   ]
  },
  {
   "cell_type": "code",
   "execution_count": null,
   "id": "0188c901-42e4-4dbc-9060-89deab6867c2",
   "metadata": {},
   "outputs": [],
   "source": [
    "type(data)"
   ]
  },
  {
   "cell_type": "code",
   "execution_count": null,
   "id": "a59ec1f3-f594-49e4-89b0-08eb52e23906",
   "metadata": {},
   "outputs": [],
   "source": [
    "import pandas as pd\n",
    "\n",
    "pd.set_option('display.max_columns', None)\n",
    "pd.set_option('display.max_rows',None)"
   ]
  },
  {
   "cell_type": "code",
   "execution_count": null,
   "id": "56cfa192-5b9e-48e3-860a-428296c08b05",
   "metadata": {},
   "outputs": [],
   "source": [
    "#This normalises the data and makes it more readable\n",
    "\n",
    "df = pd.json_normalize(data['data'])\n",
    "df['timestamp'] = pd.to_datetime('now')\n",
    "df"
   ]
  },
  {
   "cell_type": "code",
   "execution_count": null,
   "id": "68980e4b-72e1-48f8-a141-d15abff11179",
   "metadata": {},
   "outputs": [],
   "source": [
    "def api_runner():\n",
    "    global df\n",
    "    url = 'https://pro-api.coinmarketcap.com/v1/cryptocurrency/listings/latest' \n",
    "    #Original Sandbox Environment: 'https://sandbox-api.coinmarketcap.com/v1/cryptocurrency/listings/latest'\n",
    "    parameters = {\n",
    "      'start':'1',\n",
    "      'limit':'15',\n",
    "      'convert':'USD'\n",
    "    }\n",
    "    headers = {\n",
    "      'Accepts': 'application/json',\n",
    "      'X-CMC_PRO_API_KEY': '4613d2f4-2b10-46be-a5e3-8226d6ac3757',\n",
    "    }\n",
    "\n",
    "    session = Session()\n",
    "    session.headers.update(headers)\n",
    "\n",
    "    try:\n",
    "      response = session.get(url, params=parameters)\n",
    "      data = json.loads(response.text)\n",
    "      #print(data)\n",
    "    except (ConnectionError, Timeout, TooManyRedirects) as e:\n",
    "      print(e)\n",
    "            \n",
    "#NOTE:\n",
    "# I had to go in and put \"jupyter notebook --NotebookApp.iopub_data_rate_limite=1e10\"\n",
    "# Into Anaconda Prompt to change this to allow to pull data\n",
    "# Then had to use the local host URL provided by Anaconda Prompt\n",
    "\n",
    "# Use this if you just want to keep it in a dataframe\n",
    "    # df2 = pd.json_normalize(data['data'])\n",
    "    # df2['timestamp'] = pd.to_datetime('now')\n",
    "    # df = pd.concat([df, df2], ignore_index=True)\n",
    "\n",
    "# Use this to have data in csv format\n",
    "    df = pd.json_normalize(data['data'])\n",
    "    df['timestamp'] = pd.to_datetime('now')\n",
    "    df\n",
    "\n",
    "    if not os.path.isfile(r'C:\\Users\\kholb\\OneDrive\\Documents\\Python Scripts\\API.csv'):\n",
    "        df.to_csv(r'C:\\Users\\kholb\\OneDrive\\Documents\\Python Scripts\\API.csv', header='column_names')\n",
    "    else:\n",
    "        df.to_csv(r'C:\\Users\\kholb\\OneDrive\\Documents\\Python Scripts\\API.csv', mode='a', header=False)\n"
   ]
  },
  {
   "cell_type": "code",
   "execution_count": null,
   "id": "26076ed3-fe1e-4077-bd70-13ac14bf9dc7",
   "metadata": {},
   "outputs": [],
   "source": [
    "import os\n",
    "from time import time\n",
    "from time import sleep\n",
    "\n",
    "for i in range(333):\n",
    "    try:\n",
    "        api_runner()\n",
    "        print('API Runner completed successfully')\n",
    "        sleep(60) #sleep for 1 minute\n",
    "    except Exception as e:\n",
    "        print(f\"Error in main loop: {e}\")\n",
    "        continue\n",
    "exit()"
   ]
  },
  {
   "cell_type": "code",
   "execution_count": null,
   "id": "8627a8af-373c-428d-a6ea-3a24a80d19f9",
   "metadata": {},
   "outputs": [],
   "source": [
    "df3 = pd.read_csv(r'C:\\Users\\kholb\\OneDrive\\Documents\\Python Scripts\\API.csv')\n",
    "df3"
   ]
  },
  {
   "cell_type": "code",
   "execution_count": null,
   "id": "3ce7970a-92b2-4370-a17d-794bb76ce250",
   "metadata": {},
   "outputs": [],
   "source": [
    "df"
   ]
  },
  {
   "cell_type": "code",
   "execution_count": null,
   "id": "794d972b-8997-47c9-8736-37c83d239d5b",
   "metadata": {},
   "outputs": [],
   "source": [
    "pd.set_option('display.float_format', lambda x: '%.5f' % x)"
   ]
  },
  {
   "cell_type": "code",
   "execution_count": null,
   "id": "31542d58-0d1b-4388-b311-078113c09495",
   "metadata": {},
   "outputs": [],
   "source": [
    "df"
   ]
  },
  {
   "cell_type": "code",
   "execution_count": null,
   "id": "f233e83a-8185-422e-b132-c43473e811ba",
   "metadata": {},
   "outputs": [],
   "source": [
    "df4 = df.groupby('name', sort=False)[['quote.USD.percent_change_1h','quote.USD.percent_change_24h','quote.USD.percent_change_7d', 'quote.USD.percent_change_30d', 'quote.USD.percent_change_60d','quote.USD.percent_change_90d']].mean()\n",
    "df4"
   ]
  },
  {
   "cell_type": "code",
   "execution_count": null,
   "id": "48055ecc-f2a8-4138-b6f5-1f25fe781850",
   "metadata": {},
   "outputs": [],
   "source": [
    "df5 = df4.stack()\n",
    "df5"
   ]
  },
  {
   "cell_type": "code",
   "execution_count": null,
   "id": "dcfcfff4-ed6a-4046-9b4f-5dc998b6e293",
   "metadata": {},
   "outputs": [],
   "source": [
    "type(df5)"
   ]
  },
  {
   "cell_type": "code",
   "execution_count": null,
   "id": "c5ca3b66-4415-4fdc-9524-df803f72f982",
   "metadata": {},
   "outputs": [],
   "source": [
    "df6 = df5.to_frame(name='values')\n",
    "df6"
   ]
  },
  {
   "cell_type": "code",
   "execution_count": null,
   "id": "dcc92acd-5dae-402a-8198-b0c6c1fcec50",
   "metadata": {},
   "outputs": [],
   "source": [
    "df6.count()"
   ]
  },
  {
   "cell_type": "code",
   "execution_count": null,
   "id": "24364df6-428b-4a2a-8da1-8fbea4577110",
   "metadata": {},
   "outputs": [],
   "source": [
    "index = pd.Index(range(90))\n",
    "\n",
    "df7 = df6.reset_index()\n",
    "df7"
   ]
  },
  {
   "cell_type": "code",
   "execution_count": null,
   "id": "ab9c5945-62e9-418b-8d10-9c0fdfb2897d",
   "metadata": {},
   "outputs": [],
   "source": [
    "df8 = df7.rename(columns={'level_1': 'percent_change'})\n",
    "df8"
   ]
  },
  {
   "cell_type": "code",
   "execution_count": null,
   "id": "41171052-6934-40d0-ac5a-7a9ef0913451",
   "metadata": {},
   "outputs": [],
   "source": [
    "df8['percent_change'] = df8['percent_change'].replace(['quote.USD.percent_change_1h', 'quote.USD.percent_change_24h','quote.USD.percent_change_7d','quote.USD.percent_change_30d','quote.USD.percent_change_60d','quote.USD.percent_change_90d'],['1h','24h','7d','30d','60d','90d'])\n",
    "df8"
   ]
  },
  {
   "cell_type": "code",
   "execution_count": null,
   "id": "e42fec4d-e6fa-4052-9387-e5d329aa9eff",
   "metadata": {},
   "outputs": [],
   "source": [
    "import seaborn as sns\n",
    "import matplotlib.pyplot as plt"
   ]
  },
  {
   "cell_type": "code",
   "execution_count": null,
   "id": "f0e8117e-c09d-4809-99b5-2268690053e9",
   "metadata": {},
   "outputs": [],
   "source": [
    "sns.catplot(x='percent_change', y='values', hue='name', data=df8, kind='point')"
   ]
  },
  {
   "cell_type": "code",
   "execution_count": null,
   "id": "512e174a-f5ee-4fe7-9452-a8fb0fe439ef",
   "metadata": {},
   "outputs": [],
   "source": [
    "df9 = df[['name','quote.USD.price','timestamp']]\n",
    "df9 = df9.query(\"name == 'Bitcoin'\")\n",
    "df9"
   ]
  },
  {
   "cell_type": "code",
   "execution_count": null,
   "id": "f55a16db-8b5d-4279-93df-e14f7a68ebcc",
   "metadata": {},
   "outputs": [],
   "source": []
  }
 ],
 "metadata": {
  "kernelspec": {
   "display_name": "Python [conda env:base] *",
   "language": "python",
   "name": "conda-base-py"
  },
  "language_info": {
   "codemirror_mode": {
    "name": "ipython",
    "version": 3
   },
   "file_extension": ".py",
   "mimetype": "text/x-python",
   "name": "python",
   "nbconvert_exporter": "python",
   "pygments_lexer": "ipython3",
   "version": "3.12.7"
  }
 },
 "nbformat": 4,
 "nbformat_minor": 5
}
